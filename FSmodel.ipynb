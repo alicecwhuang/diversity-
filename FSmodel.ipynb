{
 "cells": [
  {
   "cell_type": "code",
   "execution_count": 223,
   "id": "657937a6",
   "metadata": {},
   "outputs": [],
   "source": [
    "import numpy as np\n",
    "import random\n",
    "import pandas as pd\n",
    "import itertools\n",
    "import math\n",
    "import time\n",
    "import concurrent.futures"
   ]
  },
  {
   "cell_type": "code",
   "execution_count": 224,
   "id": "88f65b1d",
   "metadata": {},
   "outputs": [],
   "source": [
    "class Coin:\n",
    "    def __init__(self, bias=0.5):\n",
    "        self.bias = bias\n",
    "    def toss(self, n=1000):\n",
    "        return np.random.binomial(n, self.bias, size=None)"
   ]
  },
  {
   "cell_type": "code",
   "execution_count": 275,
   "id": "0d073108",
   "metadata": {},
   "outputs": [],
   "source": [
    "class Agent:\n",
    "    def __init__(self, no, coinA, coinB, w, k):\n",
    "        self.no = no\n",
    "        self.w = w # intergroup distrust\n",
    "        self.k = k # conformity\n",
    "        self.coinA = coinA\n",
    "        self.coinB = coinB\n",
    "        \"\"\"Credence is modelled by beta distribution. Record parameters alpha and beta for each coin.\"\"\"\n",
    "        self.cred = {self.coinA: np.random.uniform(low=1, high=4, size=2),\n",
    "                     self.coinB: np.random.uniform(low=1, high=4, size=2)}\n",
    "\n",
    "    def update(self, coin, data):\n",
    "        \"\"\"data in the form [head, tail]\"\"\"\n",
    "        self.cred[coin] = np.sum([self.cred[coin], data], axis=0)\n",
    "    def exputil(self, alpha, beta, n_in, n_all):\n",
    "        \"\"\"n_in: number of in-group members choosing that coin\"\"\"\n",
    "        \"\"\"n_all: total number of members in network\"\"\"\n",
    "        p = alpha/(alpha + beta)\n",
    "        return ((1-self.k)*p + self.k*n_in/n_all)\n",
    "    def choose(self, n_inA, n_inB, n_all):\n",
    "        \"\"\"choose which coin to flip based on credence and peer influence\"\"\"\n",
    "        euA = self.exputil(self.cred[self.coinA][0], self.cred[self.coinA][1], n_inA, n_all)\n",
    "        euB = self.exputil(self.cred[self.coinB][0], self.cred[self.coinB][1], n_inB, n_all)\n",
    "        print('A', self.cred[self.coinA][0], self.cred[self.coinA][1], euA)\n",
    "        print('B', self.cred[self.coinB][0], self.cred[self.coinB][1], euB)\n",
    "        if euA > euB:\n",
    "            return self.coinA\n",
    "        else:\n",
    "            return self.coinB"
   ]
  },
  {
   "cell_type": "code",
   "execution_count": 276,
   "id": "253c750c",
   "metadata": {},
   "outputs": [],
   "source": [
    "class Model:\n",
    "    def __init__(self, w, k, epsilon=0.001, div=0.5, n_all=10):\n",
    "        np.random.seed()\n",
    "        self.w = w # intergroup distrust\n",
    "        self.k = k # conformity\n",
    "        self.epsilon = epsilon # difference between coins (difficulty)\n",
    "        self.div = div # subgroup size\n",
    "        self.n_all = n_all # total number of agents\n",
    "        self.subgroups = dict()\n",
    "        \"\"\"create coins\"\"\"\n",
    "        self.coinA = Coin()\n",
    "        self.coinB = Coin(0.5+epsilon)\n",
    "        \"\"\"create agents\"\"\"\n",
    "        self.agents = []\n",
    "        for i in range(n_all):\n",
    "            self.agents.append(Agent(i, self.coinA, self.coinB, self.w, self.k))\n",
    "        \"\"\"divide agents into subgroups\"\"\"\n",
    "        size = round(10*self.div)\n",
    "        self.subgroups = dict()\n",
    "        for a in self.agents[0:size]:\n",
    "            self.subgroups[a] = self.agents[0:size]\n",
    "        for a in self.agents[size:10]:\n",
    "            self.subgroups[a] = self.agents[size:10]\n",
    "        \"\"\"record choices of which coin to flip\"\"\"\n",
    "        self.choices= dict()\n",
    "        for a in self.agents:\n",
    "            self.choices[a] = a.choose(0, 0, self.n_all) # no peer influence at the start\n",
    "        \n",
    "    def update(self, n_flips=1000):\n",
    "        \"\"\"agents flip coin one by one\"\"\"\n",
    "        for a in self.agents:\n",
    "            coin = self.choices[a]\n",
    "            result = coin.toss(n=n_flips) # 1000 flips per time step\n",
    "            data = np.array([result, n_flips-result])\n",
    "            \"\"\"each time an agent flips, they share data with everyone (complete network)\"\"\"\n",
    "            for b in self.agents:\n",
    "                if b in self.subgroups[a]:\n",
    "                    b.update(coin, data) # update on ingroup data (including own data)\n",
    "                else:\n",
    "                    b.update(coin, data*self.w) # update on outgroup data (reduced trust)\n",
    "                    \n",
    "    def choose(self):\n",
    "        \"\"\"all agents choose which coin to flip in the next round\"\"\"\n",
    "        n_in = {key: [] for key in self.agents}\n",
    "        for a in self.agents:\n",
    "            if n_in[a] == []:\n",
    "                n_inA = sum([int(self.choices[b].bias==0.5) for b in self.subgroups[a]])\n",
    "                n_inB = len(self.subgroups[a]) - n_inA\n",
    "                for b in self.subgroups[a]:\n",
    "                    n_in[b] = (n_inA, n_inB)\n",
    "        for a in self.agents:\n",
    "            print(a.no)\n",
    "            print(n_in[a][0], n_in[a][1], self.n_all)\n",
    "            self.choices[a] = a.choose(n_in[a][0], n_in[a][1], self.n_all)\n",
    "            "
   ]
  },
  {
   "cell_type": "code",
   "execution_count": 280,
   "id": "659c9ff3",
   "metadata": {
    "scrolled": true
   },
   "outputs": [
    {
     "name": "stdout",
     "output_type": "stream",
     "text": [
      "A 1.7196579657813573 2.2137427637847766 0.42844981285484735\n",
      "B 3.030917336703847 1.4371708248814674 0.664780747951017\n",
      "A 3.9696995666824972 2.425441454430084 0.6083220936810616\n",
      "B 2.3938354781350073 3.2534301460278674 0.4154149857117906\n",
      "A 3.0236360273741463 2.844494672882409 0.5049586415478293\n",
      "B 2.4659187505459608 1.410798151964185 0.6233626123099962\n",
      "A 1.1831430878233904 1.621647793148305 0.4133927537817831\n",
      "B 3.4936734419852358 1.5387196684576592 0.6803522495173686\n",
      "A 1.5230871656413023 2.1694630770737833 0.40422616463329897\n",
      "B 3.9303880179874717 2.8210295691844003 0.570514296870979\n",
      "A 1.9107917616380221 1.516764446080851 0.5463297500966466\n",
      "B 2.367084206844134 1.0738363287824404 0.6741633521289203\n",
      "A 1.0523322792546277 2.8636435707376062 0.26335342023919284\n",
      "B 3.2018545407368735 1.3601324914719681 0.6878181432275695\n",
      "A 3.616751291687527 3.017891592187365 0.5342286431826302\n",
      "B 1.6221046874167722 1.7677896608698123 0.46894163367419656\n",
      "A 3.490021878806495 3.981485536094063 0.45776859357850036\n",
      "B 1.737955611612739 3.8911514244299963 0.30256957071078044\n",
      "A 3.522848933144533 3.6079867110134556 0.4841497023297754\n",
      "B 2.261466666951862 2.9823712557694266 0.4226365052226307\n"
     ]
    }
   ],
   "source": [
    "M = Model(1, 0.02, epsilon=0.001)"
   ]
  },
  {
   "cell_type": "code",
   "execution_count": 281,
   "id": "12952282",
   "metadata": {},
   "outputs": [
    {
     "data": {
      "text/plain": [
       "[0.501, 0.5, 0.501, 0.501, 0.501, 0.501, 0.501, 0.5, 0.5, 0.5]"
      ]
     },
     "execution_count": 281,
     "metadata": {},
     "output_type": "execute_result"
    }
   ],
   "source": [
    "[c.bias for c in M.choices.values()]"
   ]
  },
  {
   "cell_type": "code",
   "execution_count": 283,
   "id": "ccf4d483",
   "metadata": {
    "scrolled": false
   },
   "outputs": [
    {
     "name": "stdout",
     "output_type": "stream",
     "text": [
      "0\n",
      "0 5 10\n",
      "A 4510.719657965781 4493.2137427637845 0.4909526834625724\n",
      "B 5441.030917336704 5563.437170824882 0.4945495717077201\n",
      "1\n",
      "0 5 10\n",
      "A 4512.969699566683 4493.42544145443 0.49106332070990155\n",
      "B 5440.393835478135 5565.253430146027 0.49444092656155125\n",
      "2\n",
      "0 5 10\n",
      "A 4512.023636027374 4493.844494672882 0.4909891083385216\n",
      "B 5440.465918750546 5563.410798151965 0.4945252939071774\n",
      "3\n",
      "0 5 10\n",
      "A 4510.183143087823 4492.621647793148 0.49095582797742177\n",
      "B 5441.493673441985 5563.538719668458 0.49456593397322396\n",
      "4\n",
      "0 5 10\n",
      "A 4510.523087165641 4493.1694630770735 0.490944420942402\n",
      "B 5441.930388017988 5564.821029569184 0.49452913833741446\n",
      "5\n",
      "5 0 10\n",
      "A 4510.910791761638 4492.516764446081 0.5010010713507\n",
      "B 5440.367084206844 5563.073836328782 0.48453568124971375\n",
      "6\n",
      "5 0 10\n",
      "A 4510.052332279254 4493.863643570738 0.5008810008321322\n",
      "B 5441.201854540737 5563.3601324914725 0.48456065981850105\n",
      "7\n",
      "5 0 10\n",
      "A 4512.616751291687 4494.017891592188 0.5010118586591003\n",
      "B 5439.622104687417 5563.767789660869 0.48447157773912597\n",
      "8\n",
      "5 0 10\n",
      "A 4512.490021878806 4494.981485536095 0.5009524518396608\n",
      "B 5439.737955611613 5565.89115142443 0.4843833228117091\n",
      "9\n",
      "5 0 10\n",
      "A 4512.522848933145 4494.607986711013 0.5009745925366272\n",
      "B 5440.261466666952 5564.98237125577 0.4844468978471943\n"
     ]
    },
    {
     "data": {
      "text/plain": [
       "[0.501, 0.501, 0.501, 0.501, 0.501, 0.5, 0.5, 0.5, 0.5, 0.5]"
      ]
     },
     "execution_count": 283,
     "metadata": {},
     "output_type": "execute_result"
    }
   ],
   "source": [
    "M.update()\n",
    "M.choose()\n",
    "[c.bias for c in M.choices.values()]"
   ]
  },
  {
   "cell_type": "code",
   "execution_count": null,
   "id": "35c4d861",
   "metadata": {},
   "outputs": [],
   "source": [
    "W = [0.005, 0.0125, 0.1, 0.5, 1]\n",
    "K = [0, 0.0125, 0.025, 0.05, 0.1]"
   ]
  },
  {
   "cell_type": "code",
   "execution_count": 13,
   "id": "c5fb840a",
   "metadata": {},
   "outputs": [],
   "source": [
    "def run_distrust():\n",
    "    cols = ['k', 'w', 'epsilon', 'n_all', 'div', \n",
    "            'alphaA', 'betaA', 'alphaB', 'betaB', 'choices']\n",
    "    df = pd.DataFrame(columns=cols)\n",
    "    k = 0 # No conformity\n",
    "    epsilon = 0.001 # difference between coin A and coin B biases\n",
    "    n_all = 10 # agents per group\n",
    "    for w in W: # levels of intergroup trust\n",
    "        for div in [0.5, 0.7, 0.9]: # subgroup compositions 5-5, 7-3, 9-1\n",
    "            M = Model(w=w, k=k, epsilon=epsilon, div=div, n_all=n_all)\n",
    "            for t in range(3000): # 3000 time steps\n",
    "                M.update()\n",
    "                M.choose()\n",
    "            df = df.append(pd.DataFrame([[k, \n",
    "                                          w,\n",
    "                                          epsilon,\n",
    "                                          n_all,\n",
    "                                          div,\n",
    "                                          [a.cred[M.coinA][0] for a in M.agents],\n",
    "                                          [a.cred[M.coinA][1] for a in M.agents],\n",
    "                                          [a.cred[M.coinB][0] for a in M.agents],\n",
    "                                          [a.cred[M.coinB][1] for a in M.agents],\n",
    "                                          ['A' if c.bias==0.5 else 'B' for c in list(M.choices.values())]\n",
    "                                          ]], \n",
    "                                        columns=cols), \n",
    "                           ignore_index=True)\n",
    "    return(df)"
   ]
  },
  {
   "cell_type": "code",
   "execution_count": 27,
   "id": "d7f91685",
   "metadata": {},
   "outputs": [],
   "source": [
    "def run_conformity():\n",
    "    cols = ['k', 'w', 'epsilon', 'n_all', 'div', \n",
    "            'alphaA', 'betaA', 'alphaB', 'betaB', 'choices']\n",
    "    df = pd.DataFrame(columns=cols)\n",
    "    w = 1 # No intergroup distrust\n",
    "    epsilon = 0.001 # difference between coin A and coin B biases\n",
    "    n_all = 10 # agents per group\n",
    "    for k in K: # levels of intergroup trust\n",
    "        for div in [0.5, 0.7, 0.9]: # subgroup compositions 5-5, 7-3, 9-1\n",
    "            M = Model(w=w, k=k, epsilon=epsilon, div=div, n_all=n_all)\n",
    "            for t in range(3000): # 3000 time steps\n",
    "                M.update()\n",
    "                M.choose()\n",
    "            df = df.append(pd.DataFrame([[k, \n",
    "                                          w,\n",
    "                                          epsilon,\n",
    "                                          n_all,\n",
    "                                          div,\n",
    "                                          [a.cred[M.coinA][0] for a in M.agents],\n",
    "                                          [a.cred[M.coinA][1] for a in M.agents],\n",
    "                                          [a.cred[M.coinB][0] for a in M.agents],\n",
    "                                          [a.cred[M.coinB][1] for a in M.agents],\n",
    "                                          ['A' if c.bias==0.5 else 'B' for c in list(M.choices.values())]\n",
    "                                          ]], \n",
    "                                        columns=cols), \n",
    "                           ignore_index=True)\n",
    "    return(df)"
   ]
  },
  {
   "cell_type": "code",
   "execution_count": 28,
   "id": "228f2b2a",
   "metadata": {},
   "outputs": [
    {
     "name": "stdout",
     "output_type": "stream",
     "text": [
      "Finished in 10.95 second(s)\n"
     ]
    }
   ],
   "source": [
    "start = time.perf_counter()\n",
    "run_conformity()\n",
    "finish = time.perf_counter()\n",
    "print(f'Finished in {round(finish-start, 2)} second(s)')"
   ]
  }
 ],
 "metadata": {
  "kernelspec": {
   "display_name": "Python 3",
   "language": "python",
   "name": "python3"
  },
  "language_info": {
   "codemirror_mode": {
    "name": "ipython",
    "version": 3
   },
   "file_extension": ".py",
   "mimetype": "text/x-python",
   "name": "python",
   "nbconvert_exporter": "python",
   "pygments_lexer": "ipython3",
   "version": "3.9.16"
  }
 },
 "nbformat": 4,
 "nbformat_minor": 5
}
