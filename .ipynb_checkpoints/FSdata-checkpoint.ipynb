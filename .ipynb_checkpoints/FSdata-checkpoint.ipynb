{
 "cells": [
  {
   "cell_type": "code",
   "execution_count": 1,
   "id": "e94fe3a3",
   "metadata": {},
   "outputs": [],
   "source": [
    "import numpy as np\n",
    "import random\n",
    "import pandas as pd\n",
    "import matplotlib.pyplot as plt\n",
    "import itertools\n",
    "import seaborn as sns\n",
    "import re\n",
    "from statsmodels.formula.api import ols\n",
    "from scipy import stats"
   ]
  },
  {
   "cell_type": "code",
   "execution_count": 2,
   "id": "02d06cad",
   "metadata": {},
   "outputs": [],
   "source": [
    "df = pd.read_csv('test.csv')"
   ]
  },
  {
   "cell_type": "markdown",
   "id": "cc7a551d",
   "metadata": {},
   "source": [
    "### Clean data"
   ]
  },
  {
   "cell_type": "code",
   "execution_count": 3,
   "id": "a737a9bd",
   "metadata": {},
   "outputs": [],
   "source": [
    "def strtolistc(val):\n",
    "    \"\"\"Convert string to list of floats\"\"\"\n",
    "    ls = val.strip('[] ').split(',')\n",
    "    new = []\n",
    "    for v in ls:\n",
    "        new.append(float(v))\n",
    "    return(np.array(new))\n",
    "def strtolist(val):\n",
    "    \"\"\"Convert string to list of floats\"\"\"\n",
    "    ls = val.strip('[] ').split(' ')\n",
    "    ls = [i.strip(',') for i in ls if i != '']\n",
    "    new = []\n",
    "    for v in ls:\n",
    "        new.append(float(v))\n",
    "    return(np.array(new))\n",
    "def strtolists(val):\n",
    "    \"\"\"Convert string to list of floats\"\"\"\n",
    "    ls = val.strip('[] ').split(', ')\n",
    "    new = []\n",
    "    for v in ls:\n",
    "        new.append(v.strip('\"\" '))\n",
    "    return(new)"
   ]
  },
  {
   "cell_type": "code",
   "execution_count": 4,
   "id": "e37092ea",
   "metadata": {},
   "outputs": [],
   "source": [
    "df['alphaA'] = df['alphaA'].apply(strtolist)\n",
    "df['betaA'] = df['betaA'].apply(strtolist)\n",
    "df['alphaB'] = df['alphaB'].apply(strtolist)\n",
    "df['betaB'] = df['betaB'].apply(strtolist)\n",
    "df['choices'] = df['choices'].apply(strtolists)"
   ]
  },
  {
   "cell_type": "code",
   "execution_count": 5,
   "id": "5ef504d1",
   "metadata": {},
   "outputs": [],
   "source": [
    "\"\"\"Credence/expected bias for each coin\"\"\"\n",
    "df['EA'] = df['alphaA']/(df['alphaA'] + df['betaA'])\n",
    "df['EB'] = df['alphaB']/(df['alphaB'] + df['betaB'])"
   ]
  },
  {
   "cell_type": "code",
   "execution_count": 6,
   "id": "1f5b9b76",
   "metadata": {},
   "outputs": [],
   "source": [
    "\"\"\"Whether agents correctly judge coin B as having higher expected payoff\"\"\"\n",
    "df['correct'] = df['EB'] - df['EA']\n",
    "df['correct'] = df['correct'].map(lambda x: np.where(x > 0, 1, 0))"
   ]
  },
  {
   "cell_type": "code",
   "execution_count": 7,
   "id": "8f690ad2",
   "metadata": {},
   "outputs": [],
   "source": [
    "\"\"\"Brier score for each coin bias estimation\"\"\"\n",
    "df['BrierA'] = (df['EA'] - 0.5)**2\n",
    "df['BrierB'] = (df['EB'] - (0.5 + df['epsilon']))**2"
   ]
  },
  {
   "cell_type": "code",
   "execution_count": 8,
   "id": "886d8357",
   "metadata": {},
   "outputs": [],
   "source": [
    "\"\"\"Group performance\"\"\"\n",
    "df['true_converg'] = df['correct'].map(lambda x: sum(x)) # Number of successful individuals\n",
    "df['avgBrierA'] = df['BrierA'].map(lambda x: sum(x)/len(x))\n",
    "df['avgBrierB'] = df['BrierB'].map(lambda x: sum(x)/len(x))\n",
    "df['avgBrier'] = (df['avgBrierA'] + df['avgBrierB'])/2 # Average Brier of the group"
   ]
  },
  {
   "cell_type": "code",
   "execution_count": 9,
   "id": "804fa0c1",
   "metadata": {},
   "outputs": [],
   "source": [
    "df['B'] = df['choices'].map(lambda x: x.count(\"'B'\"))"
   ]
  },
  {
   "cell_type": "markdown",
   "id": "ea739b15",
   "metadata": {},
   "source": [
    "#### Summary statistics"
   ]
  },
  {
   "cell_type": "code",
   "execution_count": 18,
   "id": "27270740",
   "metadata": {},
   "outputs": [],
   "source": [
    "n_total = 10\n",
    "cols = ['k', 'w', 'epsilon', 'div', 'true', 'false', 'no']\n",
    "summary = pd.DataFrame(columns=cols) # Summary of convergence rates (based on credences)\n",
    "\n",
    "for k in [0, 0.01, 0.02, 0.05, 0.1]:\n",
    "    for w in [0, 0.005, 0.0125, 0.1, 0.5, 1]:\n",
    "        for e in [0.001]:         \n",
    "            sub = df[((df['k']==k)&(df['w']==w))&(df['epsilon']==e)]\n",
    "            for div in [0.5, 0.7, 0.9, 1]:\n",
    "                divsub = sub[sub['div']==div]['true_converg']\n",
    "                if len(divsub) > 0:\n",
    "                    l = len(divsub)\n",
    "                    true = 0\n",
    "                    false = 0\n",
    "                    no = 0\n",
    "                    for i in divsub:\n",
    "                        if i==n_total: # True convergence (all choose B)\n",
    "                            true += 1\n",
    "                        elif i==0: # False convergence (all choose A)\n",
    "                            false += 1\n",
    "                        else: # No convergence/polarization\n",
    "                            no += 1\n",
    "                    summary = summary.append(pd.DataFrame([[k, w, e, div, \n",
    "                                                            true/l, false/l, no/l]], \n",
    "                                                          columns=cols), ignore_index=True)"
   ]
  },
  {
   "cell_type": "markdown",
   "id": "507f9636",
   "metadata": {},
   "source": [
    "#### 2(a) in F&S - Replicates (for 10 agents per group)"
   ]
  },
  {
   "cell_type": "code",
   "execution_count": 19,
   "id": "b87043c7",
   "metadata": {},
   "outputs": [
    {
     "data": {
      "text/html": [
       "<div>\n",
       "<style scoped>\n",
       "    .dataframe tbody tr th:only-of-type {\n",
       "        vertical-align: middle;\n",
       "    }\n",
       "\n",
       "    .dataframe tbody tr th {\n",
       "        vertical-align: top;\n",
       "    }\n",
       "\n",
       "    .dataframe thead th {\n",
       "        text-align: right;\n",
       "    }\n",
       "</style>\n",
       "<table border=\"1\" class=\"dataframe\">\n",
       "  <thead>\n",
       "    <tr style=\"text-align: right;\">\n",
       "      <th></th>\n",
       "      <th>k</th>\n",
       "      <th>w</th>\n",
       "      <th>epsilon</th>\n",
       "      <th>div</th>\n",
       "      <th>true</th>\n",
       "      <th>false</th>\n",
       "      <th>no</th>\n",
       "    </tr>\n",
       "  </thead>\n",
       "  <tbody>\n",
       "    <tr>\n",
       "      <th>0</th>\n",
       "      <td>0</td>\n",
       "      <td>0</td>\n",
       "      <td>0.001</td>\n",
       "      <td>0.5</td>\n",
       "      <td>0.388764</td>\n",
       "      <td>0.148315</td>\n",
       "      <td>0.462921</td>\n",
       "    </tr>\n",
       "    <tr>\n",
       "      <th>3</th>\n",
       "      <td>0</td>\n",
       "      <td>0.005</td>\n",
       "      <td>0.001</td>\n",
       "      <td>0.5</td>\n",
       "      <td>0.541573</td>\n",
       "      <td>0.177528</td>\n",
       "      <td>0.280899</td>\n",
       "    </tr>\n",
       "    <tr>\n",
       "      <th>6</th>\n",
       "      <td>0</td>\n",
       "      <td>0.0125</td>\n",
       "      <td>0.001</td>\n",
       "      <td>0.5</td>\n",
       "      <td>0.725843</td>\n",
       "      <td>0.143820</td>\n",
       "      <td>0.130337</td>\n",
       "    </tr>\n",
       "    <tr>\n",
       "      <th>9</th>\n",
       "      <td>0</td>\n",
       "      <td>0.1</td>\n",
       "      <td>0.001</td>\n",
       "      <td>0.5</td>\n",
       "      <td>0.738717</td>\n",
       "      <td>0.261283</td>\n",
       "      <td>0.000000</td>\n",
       "    </tr>\n",
       "    <tr>\n",
       "      <th>12</th>\n",
       "      <td>0</td>\n",
       "      <td>0.5</td>\n",
       "      <td>0.001</td>\n",
       "      <td>0.5</td>\n",
       "      <td>0.617577</td>\n",
       "      <td>0.382423</td>\n",
       "      <td>0.000000</td>\n",
       "    </tr>\n",
       "    <tr>\n",
       "      <th>15</th>\n",
       "      <td>0</td>\n",
       "      <td>1</td>\n",
       "      <td>0.001</td>\n",
       "      <td>0.5</td>\n",
       "      <td>0.632775</td>\n",
       "      <td>0.367225</td>\n",
       "      <td>0.000000</td>\n",
       "    </tr>\n",
       "  </tbody>\n",
       "</table>\n",
       "</div>"
      ],
      "text/plain": [
       "    k       w  epsilon  div      true     false        no\n",
       "0   0       0    0.001  0.5  0.388764  0.148315  0.462921\n",
       "3   0   0.005    0.001  0.5  0.541573  0.177528  0.280899\n",
       "6   0  0.0125    0.001  0.5  0.725843  0.143820  0.130337\n",
       "9   0     0.1    0.001  0.5  0.738717  0.261283  0.000000\n",
       "12  0     0.5    0.001  0.5  0.617577  0.382423  0.000000\n",
       "15  0       1    0.001  0.5  0.632775  0.367225  0.000000"
      ]
     },
     "execution_count": 19,
     "metadata": {},
     "output_type": "execute_result"
    }
   ],
   "source": [
    "summary[(summary['div']==0.5)&(summary['k']==0)]"
   ]
  },
  {
   "cell_type": "markdown",
   "id": "388a0761",
   "metadata": {},
   "source": [
    "#### 2(b) in F&S - Roughly replicates the shape, but not the order for w >= 0.1"
   ]
  },
  {
   "cell_type": "code",
   "execution_count": 16,
   "id": "b9966021",
   "metadata": {
    "scrolled": true
   },
   "outputs": [
    {
     "data": {
      "text/plain": [
       "<matplotlib.legend.Legend at 0x11d5698e0>"
      ]
     },
     "execution_count": 16,
     "metadata": {},
     "output_type": "execute_result"
    },
    {
     "data": {
      "image/png": "[encoded data removed]",
      "text/plain": [
       "<Figure size 864x432 with 1 Axes>"
      ]
     },
     "metadata": {
      "needs_background": "light"
     },
     "output_type": "display_data"
    }
   ],
   "source": [
    "fig, ax = plt.subplots(figsize=(12, 6))\n",
    "W = [0, 0.005, 0.0125, 0.1, 0.45, 1]\n",
    "k = 0\n",
    "e = 0.001\n",
    "Div = [0.5, 0.7, 0.9]\n",
    "\n",
    "for d in Div:\n",
    "    sub = summary[(summary['div']==d)&(summary['k']==k)]\n",
    "    data = list(sub['true'])\n",
    "    ax.plot(W, data, label=d, marker='o')\n",
    "plt.xlabel('w')\n",
    "plt.ylabel('% true convergence')\n",
    "plt.legend(title='subgroup composition')"
   ]
  },
  {
   "cell_type": "markdown",
   "id": "db07a279",
   "metadata": {},
   "source": [
    "#### 4(a) in F&S - Does not replicate at all. Very far off."
   ]
  },
  {
   "cell_type": "code",
   "execution_count": 17,
   "id": "c784be32",
   "metadata": {},
   "outputs": [
    {
     "data": {
      "text/plain": [
       "<matplotlib.legend.Legend at 0x11d5e18b0>"
      ]
     },
     "execution_count": 17,
     "metadata": {},
     "output_type": "execute_result"
    },
    {
     "data": {
      "image/png": "[encoded data removed]",
      "text/plain": [
       "<Figure size 864x432 with 1 Axes>"
      ]
     },
     "metadata": {
      "needs_background": "light"
     },
     "output_type": "display_data"
    }
   ],
   "source": [
    "fig, ax = plt.subplots(figsize=(12, 6))\n",
    "K = [0, 0.01, 0.02, 0.05, 0.1]\n",
    "w = 1\n",
    "e = 0.001\n",
    "Div = [0.5, 1]\n",
    "\n",
    "for d in Div:\n",
    "    sub = summary[(summary['div']==d)&(summary['w']==w)]\n",
    "    data = list(sub['true'])\n",
    "    ax.plot(K, data, label=d, marker='o')\n",
    "plt.xlabel('k')\n",
    "plt.ylabel('% true convergence')\n",
    "plt.legend(title='subgroup composition')"
   ]
  },
  {
   "cell_type": "code",
   "execution_count": null,
   "id": "1754f6b2",
   "metadata": {},
   "outputs": [],
   "source": []
  }
 ],
 "metadata": {
  "kernelspec": {
   "display_name": "Python 3",
   "language": "python",
   "name": "python3"
  },
  "language_info": {
   "codemirror_mode": {
    "name": "ipython",
    "version": 3
   },
   "file_extension": ".py",
   "mimetype": "text/x-python",
   "name": "python",
   "nbconvert_exporter": "python",
   "pygments_lexer": "ipython3",
   "version": "3.9.16"
  }
 },
 "nbformat": 4,
 "nbformat_minor": 5
}
